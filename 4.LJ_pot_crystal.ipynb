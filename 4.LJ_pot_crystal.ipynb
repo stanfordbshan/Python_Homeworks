{
 "cells": [
  {
   "cell_type": "markdown",
   "metadata": {},
   "source": [
    "# Molecular Dynamics in Python (Fall, 2020)\n",
    "\n",
    "Prof. Bin Shan(bshan@mail.hust.edu.cn), Huazhong University of Science and Technology\n",
    "\n",
    "Nano Materials Design and Manufacturing research center at HUST (www.materialssimulation.com)\n",
    "\n",
    "Molecular simulations have been heralded as the new computational microscope that are helping us understand how molecules interact with each other and how they self assemble into complex structures. A molecular dynamics simulation is a particular type of simulation which generally approximates the intermolecular forces/energy using mathematical functions. The impact of temperature is often included (which usually drives molecules apart) and the interplay between this thermal energy and the intermolecular energy gives rise to the self assembly processes.\n",
    "\n",
    "#### Instruction\n",
    "Considering the atoms in the solid as a set of classical particles, localized with negligible kinetic energy at the points of the observed fcc Bravais lattice, the energy of interaction of the atom at the origin with all the others is$$\\sum_{\\bar{R} \\neq 0} U(\\vec{R})$$\n",
    "When the total number of atoms in the crystal is N and avoiding to count the energy of a pair of atoms twice we get the total energy of the crystal as $$U_{t o t}=\\frac{N}{2} \\sum_{i \\neq j} U\\left(\\vec{R}_{i j}\\right)$$\n",
    "Where the sum is over all nonzero vectors in the fcc Bravais lattice. The magnitude of the Bravais lattice vector $\\vec{R}_{i j}$ can be defined as the distance between an $i^{\\mathrm{th}}$ atom and all other atoms $j$ as $\\left|\\vec{R}_{i j}\\right|=M_{i j} r$, where $M_{i j}$is a dimensionless number and r is considered here as the nearest neighbor distance.\n",
    "The total energy per particle may have the expression:\n",
    "$$\n",
    "u=2 \\varepsilon\\left[\\sum_{i \\neq j}\\left(\\frac{1}{M_{i j}}\\right)^{12}\\left(\\frac{\\sigma}{r}\\right)^{12}-\\sum_{i \\neq j}\\left(\\frac{1}{M_{i j}}\\right)^{6}\\left(\\frac{\\sigma}{r}\\right)^{6}\\right]\n",
    "$$\n",
    "This can also be expressed as\n",
    "$$u=2 \\varepsilon\\left[A_{n}\\left(\\frac{\\sigma}{r}\\right)^{n}-A_{m}\\left(\\frac{\\sigma}{r}\\right)^{m}\\right]  (n>m)$$\n",
    "Where $$A_{n}=\\sum_{j} \\frac{1}{M_{i j}^{n}}$$ $$A_{m}=\\sum_{j} \\frac{1}{M_{i j}^{m}}$$\n",
    "#### Question\n",
    "- Compute the $A_{12}$ and $A_{6}$ of **SC\\FCC\\BCC**(three decimal points)"
   ]
  },
  {
   "cell_type": "code",
   "execution_count": 1,
   "metadata": {},
   "outputs": [],
   "source": [
    "import numpy as np"
   ]
  },
  {
   "cell_type": "code",
   "execution_count": 27,
   "metadata": {},
   "outputs": [],
   "source": [
    "def neighbor_n(a,b,c,n):\n",
    "    #枚举abs(a)+abs(b)+abs(c)=n的所有可能性，得到数列\n",
    "    neighbor_list = []\n",
    "    for i in range(-n,n+1):\n",
    "        for j in range(-n+abs(i),n+1-abs(i)):\n",
    "            k = n-abs(i)-abs(j)\n",
    "            array = i*a+j*b+k*c\n",
    "            neighbor_list.append(array)\n",
    "            if k != 0:\n",
    "                array = i*a+j*b-k*c\n",
    "                neighbor_list.append(array)\n",
    "    return neighbor_list"
   ]
  },
  {
   "cell_type": "code",
   "execution_count": 28,
   "metadata": {},
   "outputs": [],
   "source": [
    "def get_M(array,rmin):\n",
    "    #由原子坐标R得到对应的M\n",
    "    M = np.dot(array,array)**0.5/rmin\n",
    "    return M"
   ]
  },
  {
   "cell_type": "code",
   "execution_count": 29,
   "metadata": {},
   "outputs": [],
   "source": [
    "def get_rmin(a,b,c):\n",
    "    #根据原包的基矢得到最近邻原子的距离\n",
    "    r_min = min(np.dot(a,a),np.dot(b,b),np.dot(c,c))\n",
    "    r_min = r_min**0.5\n",
    "    return r_min"
   ]
  },
  {
   "cell_type": "code",
   "execution_count": 30,
   "metadata": {},
   "outputs": [],
   "source": [
    "def get_An(a,b,c,n):\n",
    "    #根据原包的基矢计算An\n",
    "    rmin = get_rmin(a,b,c)\n",
    "    An = 0\n",
    "    An_last = 0\n",
    "    m = 1\n",
    "    err = 0.001 #误差\n",
    "    while 1:\n",
    "        neighbor_list = neighbor_n(a,b,c,m)\n",
    "        for neighbor_atom in neighbor_list:\n",
    "            M = get_M(neighbor_atom,rmin)\n",
    "            An = An + (1/M)**n\n",
    "        #根据本次循环得到的An与上一次循环的An的差是否小于err来判断是否满足收敛条件\n",
    "        if An - An_last <err: \n",
    "            break\n",
    "        else:\n",
    "            An_last = An\n",
    "            m = m+1\n",
    "    return An"
   ]
  },
  {
   "cell_type": "code",
   "execution_count": 31,
   "metadata": {},
   "outputs": [
    {
     "name": "stdout",
     "output_type": "stream",
     "text": [
      "8.398030153736814 6.202070607995655\n"
     ]
    }
   ],
   "source": [
    "#简单立方的原胞基矢\n",
    "a1 = np.array([1,0,0])\n",
    "a2 = np.array([0,1,0])\n",
    "a3 = np.array([0,0,1])\n",
    "\n",
    "A6_sc = get_An(a1,a2,a3,6)\n",
    "A12_sc = get_An(a1,a2,a3,12)\n",
    "print(A6_sc,A12_sc)"
   ]
  },
  {
   "cell_type": "code",
   "execution_count": 32,
   "metadata": {},
   "outputs": [
    {
     "name": "stdout",
     "output_type": "stream",
     "text": [
      "14.44838248317138 12.131829096294238\n"
     ]
    }
   ],
   "source": [
    "#面心立方的原胞基矢\n",
    "b1 = np.array([0.5,0.5,0])\n",
    "b2 = np.array([0.5,0,0.5])\n",
    "b3 = np.array([0,0.5,0.5])\n",
    "\n",
    "A6_fcc = get_An(b1,b2,b3,6)\n",
    "A12_fcc = get_An(b1,b2,b3,12)\n",
    "print(A6_fcc,A12_fcc)"
   ]
  },
  {
   "cell_type": "code",
   "execution_count": 33,
   "metadata": {},
   "outputs": [
    {
     "name": "stdout",
     "output_type": "stream",
     "text": [
      "12.247353852210031 9.113922592545272\n"
     ]
    }
   ],
   "source": [
    "#体心立方的原胞基矢\n",
    "c1 = np.array([1,0,0])\n",
    "c2 = np.array([0,1,0])\n",
    "c3 = np.array([0.5,0.5,0.5])\n",
    "\n",
    "A6_bcc = get_An(c1,c2,c3,6)\n",
    "A12_bcc = get_An(c1,c2,c3,12)\n",
    "print(A6_bcc,A12_bcc)"
   ]
  },
  {
   "cell_type": "code",
   "execution_count": null,
   "metadata": {},
   "outputs": [],
   "source": []
  }
 ],
 "metadata": {
  "kernelspec": {
   "display_name": "Python 3",
   "language": "python",
   "name": "python3"
  },
  "language_info": {
   "codemirror_mode": {
    "name": "ipython",
    "version": 3
   },
   "file_extension": ".py",
   "mimetype": "text/x-python",
   "name": "python",
   "nbconvert_exporter": "python",
   "pygments_lexer": "ipython3",
   "version": "3.7.7"
  }
 },
 "nbformat": 4,
 "nbformat_minor": 2
}
